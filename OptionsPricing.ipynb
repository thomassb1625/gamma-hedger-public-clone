{
 "cells": [
  {
   "cell_type": "code",
   "execution_count": 88,
   "metadata": {
    "id": "0FAFqNEk374n"
   },
   "outputs": [],
   "source": [
    "from numpy import log as ln\n",
    "import math\n",
    "from scipy.stats import norm\n",
    "import datetime"
   ]
  },
  {
   "cell_type": "code",
   "execution_count": 75,
   "metadata": {
    "id": "eMo1mbKX5EVI"
   },
   "outputs": [],
   "source": [
    "def getD(S,K,t,r,sd,y):\n",
    "  d1 = (ln(S/K) + (r + (sd**2)/2)*t)/ (sd*t**0.5)\n",
    "  d2 = d1 - (sd*t**0.5)\n",
    "  #print(\"d1 = \",d1)\n",
    "  #print(\"d2 = \",d2)\n",
    "  return[d1,d2]"
   ]
  },
  {
   "cell_type": "code",
   "execution_count": 76,
   "metadata": {
    "id": "5fMLqrUIGJDJ"
   },
   "outputs": [],
   "source": [
    "def priceOpt(S,K,t,r,sd,y):\n",
    "  [d1, d2] = getD(S,K,t,r,sd,y)\n",
    "  if y==0:\n",
    "    out = S*norm.cdf(d1) - K*math.e**(-r*t)*norm.cdf(d2)\n",
    "    print(out)\n",
    "  else:\n",
    "    out = S*math.e**(-y*t) * nd1 - K*math.e**(-r*t) * nd2\n",
    "    print(out)"
   ]
  },
  {
   "cell_type": "code",
   "execution_count": 77,
   "metadata": {
    "id": "t_QfSlf506o1"
   },
   "outputs": [],
   "source": [
    "def pvA(cf,r,n):\n",
    "  out = cf*((1-(1+r)**(-n))/r)\n",
    "  print(out)\n"
   ]
  },
  {
   "cell_type": "code",
   "execution_count": 78,
   "metadata": {},
   "outputs": [],
   "source": [
    "def getDelta(d1):\n",
    "    return norm.cdf(d1)"
   ]
  },
  {
   "cell_type": "code",
   "execution_count": 79,
   "metadata": {},
   "outputs": [],
   "source": [
    "def getGamma(S, sd, d1, t):\n",
    "    return norm.pdf(d1)/(S*sd*math.sqrt(t))"
   ]
  },
  {
   "cell_type": "code",
   "execution_count": 80,
   "metadata": {},
   "outputs": [],
   "source": [
    "def getTheta(S, K, t, r, sd, d1, d2):\n",
    "    return -(S * norm.pdf(d1) * sd / (2 * math.sqrt(t))) - (r * K * math.exp(-r*t) * norm.cdf(d2))"
   ]
  },
  {
   "cell_type": "code",
   "execution_count": 86,
   "metadata": {},
   "outputs": [],
   "source": [
    "def getGreeks(S, K, t, r, sd, y):\n",
    "    [d1, d2] = getD(S, K, t, r, sd, y)\n",
    "    delta = getDelta(d1)\n",
    "    gamma = getGamma(S, sd,d1, t)\n",
    "    theta = getTheta(S, K, t, r, sd, d1, d2)/365\n",
    "    print(\"Delta: \" + str(delta))\n",
    "    print(\"Gamma: \" + str(gamma))\n",
    "    print(\"Theta: \" + str(theta))\n",
    "    return [delta, gamma, theta]"
   ]
  },
  {
   "cell_type": "code",
   "execution_count": 108,
   "metadata": {},
   "outputs": [],
   "source": [
    "#def timeToExpiry(expiryDate):\n",
    "def timeToExpiry(expiryDate):\n",
    "    date = expiryDate.split('-')\n",
    "    return (datetime.datetime(int(date[0]), int(date[1]), int(date[2])) - datetime.datetime.now()).total_seconds()/31536000"
   ]
  },
  {
   "cell_type": "code",
   "execution_count": 109,
   "metadata": {},
   "outputs": [
    {
     "name": "stdout",
     "output_type": "stream",
     "text": [
      "896.69355887661\n"
     ]
    }
   ],
   "source": [
    "priceOpt(20392, 19500, timeToExpiry('2022-07-07'), 0.03, 0.7413821598624687, 0)"
   ]
  },
  {
   "cell_type": "code",
   "execution_count": 115,
   "metadata": {},
   "outputs": [
    {
     "name": "stdout",
     "output_type": "stream",
     "text": [
      "Delta: 0.9643055249250879\n",
      "Gamma: 0.00017073346947231574\n",
      "Theta: -54.554262991262874\n"
     ]
    },
    {
     "data": {
      "text/plain": [
       "[0.9643055249250879, 0.00017073346947231574, -54.554262991262874]"
      ]
     },
     "execution_count": 115,
     "metadata": {},
     "output_type": "execute_result"
    }
   ],
   "source": [
    "getGreeks(20307, 19500, timeToExpiry('2022-07-07'), 0.03,0.7413821598624687, 0)"
   ]
  },
  {
   "cell_type": "code",
   "execution_count": null,
   "metadata": {},
   "outputs": [],
   "source": []
  }
 ],
 "metadata": {
  "colab": {
   "name": "OptionsPricing.ipynb",
   "provenance": []
  },
  "kernelspec": {
   "display_name": "Python 3 (ipykernel)",
   "language": "python",
   "name": "python3"
  },
  "language_info": {
   "codemirror_mode": {
    "name": "ipython",
    "version": 3
   },
   "file_extension": ".py",
   "mimetype": "text/x-python",
   "name": "python",
   "nbconvert_exporter": "python",
   "pygments_lexer": "ipython3",
   "version": "3.9.12"
  }
 },
 "nbformat": 4,
 "nbformat_minor": 1
}
