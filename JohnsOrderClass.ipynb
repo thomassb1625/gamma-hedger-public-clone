{
 "cells": [
  {
   "cell_type": "code",
   "execution_count": 1,
   "id": "b8a7a750",
   "metadata": {},
   "outputs": [],
   "source": [
    "class order:\n",
    "    def  __init__(self, data):\n",
    "        self.timeStamp = data[0]\n",
    "        self.side = data[1]\n",
    "        self.id = data[3]\n",
    "        self.px = data[2]\n",
    "        self.group = data[4]\n",
    "        self.parent = data[5]\n",
    "\n",
    "    def info(self):\n",
    "        print('--------------\\n'+str(self.side), 'order at', self.px, 'made at', self.timeStamp, '\\nOrder ID:', self.id,'; Parent Order:', self.parent)"
   ]
  },
  {
   "cell_type": "code",
   "execution_count": null,
   "id": "dcc33ec6",
   "metadata": {},
   "outputs": [],
   "source": [
    "btcFills['Timestamp'] = btcFills['Timestamp'].astype('datetime64[s]')\n",
    "btcFills.sort_values(by = 'Timestamp',inplace = True)\n",
    "#btcFills.index = btcFills['submitTime']\n",
    "parentOrders = btcFills[btcFills['Group'].str.contains(\"Contingent\")]\n",
    "childOrders = btcFills[btcFills['Group'].str.contains(\"contingent/\")]\n",
    "childOrders['Timestamp'] = pd.to_datetime(childOrders['Timestamp'])\n",
    "chains = {}\n",
    "for i,r in parentOrders.iterrows():\n",
    "    id = parentOrders.loc[i,'OrderID']\n",
    "    data = [parentOrders.loc[i,'Timestamp'], parentOrders.loc[i,'Side'],parentOrders.loc[i,'AvgPx'], parentOrders.loc[i,'OrderID'],parentOrders.loc[i,'Group'],None]\n",
    "    chains[id] = [order(data)]\n",
    "\n",
    "temp = []\n",
    "temp2 = []\n",
    "for i in childOrders['Group']:\n",
    "    temp.append(str(i.split('/')[1]))\n",
    "    temp2.append(str(i.split('/')[2]))\n",
    "\n",
    "childOrders['parents'] = temp\n",
    "childOrders['prev'] = temp2\n",
    "\n",
    "childOrders.index = childOrders.prev"
   ]
  }
 ],
 "metadata": {
  "kernelspec": {
   "display_name": "Python 3 (ipykernel)",
   "language": "python",
   "name": "python3"
  },
  "language_info": {
   "codemirror_mode": {
    "name": "ipython",
    "version": 3
   },
   "file_extension": ".py",
   "mimetype": "text/x-python",
   "name": "python",
   "nbconvert_exporter": "python",
   "pygments_lexer": "ipython3",
   "version": "3.9.12"
  }
 },
 "nbformat": 4,
 "nbformat_minor": 5
}
