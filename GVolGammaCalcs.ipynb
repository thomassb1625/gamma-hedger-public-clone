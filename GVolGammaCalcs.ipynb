{
 "cells": [
  {
   "cell_type": "code",
   "execution_count": 11,
   "id": "5f5ba9f8",
   "metadata": {},
   "outputs": [],
   "source": [
    "import pandas as pd\n",
    "import numpy as np\n",
    "import datetime\n",
    "from matplotlib import pyplot as plt\n",
    "import requests\n",
    "import math\n",
    "from scipy.stats import norm"
   ]
  },
  {
   "cell_type": "code",
   "execution_count": 12,
   "id": "ac1bc37a",
   "metadata": {},
   "outputs": [],
   "source": [
    "def getReqDate(d):\n",
    "    start = pd.to_datetime(d)\n",
    "    sYear = str(start.year)\n",
    "    sMonth = \"\"\n",
    "    sDay = \"\"\n",
    "    \n",
    "    if(start.month <10):\n",
    "        sMonth = \"0\"+ str(start.month)\n",
    "    else:\n",
    "        sMonth = str(start.month)\n",
    "    \n",
    "    if(start.day <10):\n",
    "        sDay = \"0\"+ str(start.day)\n",
    "    else:\n",
    "        sDay = str(start.day)\n",
    "    \n",
    "    output = sYear+sMonth+sDay+\"T000000\"\n",
    "    return output\n",
    "\n",
    "def getData(start,end,timeFrame,pair):\n",
    "    access_token = \"\"\n",
    "    headers = {'Authorization': 'Bearer ' + access_token}\n",
    "    fromDate = getReqDate(start)\n",
    "    toDate = getReqDate(end)\n",
    "    url = \"https://api.cryptoquant.com/v1/\"+pair+\"/market-data/price-ohlcv?window=\"+timeFrame+\"&from=\"+fromDate+\"&to=\"+toDate+\"&limit=100000\"\n",
    "    temp = pd.DataFrame(requests.get(url, headers=headers).json()['result']['data'])\n",
    "    temp.sort_values(by = 'datetime',inplace=True)\n",
    "    temp.index = pd.to_datetime(temp.datetime)\n",
    "    check = pd.to_datetime(temp.index[0])\n",
    "    check1 = pd.to_datetime(start)\n",
    "    if check.year != check1.year or check.month != check1.month or check.day != check1.day:\n",
    "        newEnd = check\n",
    "        #print(newEnd)\n",
    "        newDF = pd.concat([getData(start,newEnd,timeFrame,pair), temp])\n",
    "        dupIndex = newDF.index.duplicated(keep=\"first\")\n",
    "        newDF = newDF[~dupIndex]\n",
    "        newDF.sort_index(inplace=True)\n",
    "        \n",
    "        return newDF\n",
    "    else:\n",
    "        return temp"
   ]
  },
  {
   "cell_type": "code",
   "execution_count": 13,
   "id": "15d137fd",
   "metadata": {},
   "outputs": [],
   "source": [
    "fileName = 'gvolsurface.csv'\n",
    "df = pd.read_csv(fileName, dtype = 'str')\n",
    "df.dropna(how='all', axis=1, inplace=True)\n",
    "df = df[['Day', 'Days Left', 'atmMidIV']]\n",
    "df['DaysLeft'] = pd.to_numeric(df['Days Left'])\n",
    "df['atmMidIV'] = pd.to_numeric(df['atmMidIV'])\n",
    "df = df.drop(columns=['Days Left'])\n",
    "df = df.loc[df['DaysLeft'] == 31]"
   ]
  },
  {
   "cell_type": "code",
   "execution_count": 14,
   "id": "d9376b53",
   "metadata": {},
   "outputs": [],
   "source": [
    "firstDay, _ = df.iloc[1].Day.split()\n",
    "lastDate, _ = df.iloc[-1].Day.split()\n",
    "year, month, day = lastDate.split('-')\n",
    "lastDay = year + '-' + month + '-' + str(int(day)+1)\n",
    "historicalData = getData(firstDay, lastDay, 'hour', 'btc')\n",
    "historicalData = historicalData[['datetime', 'open', 'close']]"
   ]
  },
  {
   "cell_type": "code",
   "execution_count": 15,
   "id": "df954f5c",
   "metadata": {},
   "outputs": [],
   "source": [
    "df['spot'] = np.nan\n",
    "for i, row in df.iterrows():\n",
    "    df.at[i, 'spot'] = historicalData.loc[row.Day].open"
   ]
  },
  {
   "cell_type": "code",
   "execution_count": 16,
   "id": "93744fc8",
   "metadata": {},
   "outputs": [],
   "source": [
    "delta = 0.5\n",
    "d1 = norm.ppf(delta)\n",
    "df['gamma'] = norm.pdf(d1)/(df.spot*(df.atmMidIV/100)*np.sqrt(df.DaysLeft/365))\n",
    "df['gammaMoney']  = (df.gamma*(df.spot*df.spot))/100\n",
    "df['OptionsNeeded'] = 1000000/df.gammaMoney"
   ]
  },
  {
   "cell_type": "code",
   "execution_count": 17,
   "id": "4cd66210",
   "metadata": {},
   "outputs": [],
   "source": [
    "df.to_csv('gammas.csv')  "
   ]
  },
  {
   "cell_type": "code",
   "execution_count": 9,
   "id": "7767b07c",
   "metadata": {},
   "outputs": [
    {
     "data": {
      "text/plain": [
       "<AxesSubplot:xlabel='Day', ylabel='atmMidIV'>"
      ]
     },
     "execution_count": 9,
     "metadata": {},
     "output_type": "execute_result"
    },
    {
     "data": {
      "image/png": "[encoded data removed]",
      "text/plain": [
       "<Figure size 432x288 with 1 Axes>"
      ]
     },
     "metadata": {
      "needs_background": "light"
     },
     "output_type": "display_data"
    }
   ],
   "source": [
    "df = df.sort_values(by='spot',ascending=True)\n",
    "df.plot('Day', 'atmMidIV', 'scatter')"
   ]
  },
  {
   "cell_type": "code",
   "execution_count": 10,
   "id": "85e0524e",
   "metadata": {},
   "outputs": [
    {
     "ename": "NameError",
     "evalue": "name 'btcFills' is not defined",
     "output_type": "error",
     "traceback": [
      "\u001b[1;31m---------------------------------------------------------------------------\u001b[0m",
      "\u001b[1;31mNameError\u001b[0m                                 Traceback (most recent call last)",
      "Input \u001b[1;32mIn [10]\u001b[0m, in \u001b[0;36m<cell line: 1>\u001b[1;34m()\u001b[0m\n\u001b[1;32m----> 1\u001b[0m btcFills[\u001b[38;5;124m'\u001b[39m\u001b[38;5;124mTimestamp\u001b[39m\u001b[38;5;124m'\u001b[39m] \u001b[38;5;241m=\u001b[39m \u001b[43mbtcFills\u001b[49m[\u001b[38;5;124m'\u001b[39m\u001b[38;5;124mTimestamp\u001b[39m\u001b[38;5;124m'\u001b[39m]\u001b[38;5;241m.\u001b[39mastype(\u001b[38;5;124m'\u001b[39m\u001b[38;5;124mdatetime64[s]\u001b[39m\u001b[38;5;124m'\u001b[39m)\n\u001b[0;32m      2\u001b[0m btcFills\u001b[38;5;241m.\u001b[39msort_values(by \u001b[38;5;241m=\u001b[39m \u001b[38;5;124m'\u001b[39m\u001b[38;5;124mTimestamp\u001b[39m\u001b[38;5;124m'\u001b[39m,inplace \u001b[38;5;241m=\u001b[39m \u001b[38;5;28;01mTrue\u001b[39;00m)\n\u001b[0;32m      3\u001b[0m \u001b[38;5;66;03m#btcFills.index = btcFills['submitTime']\u001b[39;00m\n",
      "\u001b[1;31mNameError\u001b[0m: name 'btcFills' is not defined"
     ]
    }
   ],
   "source": [
    "btcFills['Timestamp'] = btcFills['Timestamp'].astype('datetime64[s]')\n",
    "btcFills.sort_values(by = 'Timestamp',inplace = True)\n",
    "#btcFills.index = btcFills['submitTime']\n",
    "parentOrders = btcFills[btcFills['Group'].str.contains(\"Contingent\")]\n",
    "childOrders = btcFills[btcFills['Group'].str.contains(\"contingent/\")]\n",
    "childOrders['Timestamp'] = pd.to_datetime(childOrders['Timestamp'])\n",
    "chains = {}\n",
    "for i,r in parentOrders.iterrows():\n",
    "    id = parentOrders.loc[i,'OrderID']\n",
    "    data = [parentOrders.loc[i,'Timestamp'], parentOrders.loc[i,'Side'],parentOrders.loc[i,'AvgPx'], parentOrders.loc[i,'OrderID'],parentOrders.loc[i,'Group'],None]\n",
    "    chains[id] = [order(data)]\n",
    "\n",
    "temp = []\n",
    "temp2 = []\n",
    "for i in childOrders['Group']:\n",
    "    temp.append(str(i.split('/')[1]))\n",
    "    temp2.append(str(i.split('/')[2]))\n",
    "\n",
    "childOrders['parents'] = temp\n",
    "childOrders['prev'] = temp2\n",
    "\n",
    "childOrders.index = childOrders.prev"
   ]
  },
  {
   "cell_type": "code",
   "execution_count": null,
   "id": "4fe94178",
   "metadata": {},
   "outputs": [],
   "source": []
  },
  {
   "cell_type": "code",
   "execution_count": null,
   "id": "c060c848",
   "metadata": {},
   "outputs": [],
   "source": []
  }
 ],
 "metadata": {
  "kernelspec": {
   "display_name": "Python 3 (ipykernel)",
   "language": "python",
   "name": "python3"
  },
  "language_info": {
   "codemirror_mode": {
    "name": "ipython",
    "version": 3
   },
   "file_extension": ".py",
   "mimetype": "text/x-python",
   "name": "python",
   "nbconvert_exporter": "python",
   "pygments_lexer": "ipython3",
   "version": "3.9.12"
  }
 },
 "nbformat": 4,
 "nbformat_minor": 5
}
