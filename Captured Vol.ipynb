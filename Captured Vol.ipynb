{
 "cells": [
  {
   "cell_type": "code",
   "execution_count": 149,
   "id": "3bd3e0cc",
   "metadata": {},
   "outputs": [],
   "source": [
    "import pandas as pd\n",
    "import numpy as np\n",
    "import datetime\n",
    "from matplotlib import pyplot as plt"
   ]
  },
  {
   "cell_type": "code",
   "execution_count": 173,
   "id": "0d197d66",
   "metadata": {},
   "outputs": [],
   "source": [
    "#Import and cleanse data\n",
    "fileName = 'OriginalDataSet.csv'  #Can't be made public since it included customers' trades\n",
    "df = pd.read_csv(fileName, dtype = 'str')\n",
    "df.dropna(how='all', axis=1, inplace=True)\n",
    "df.drop(cols_to_drop, axis=1, inplace=True)\n",
    "delCols = ['ClOrdID', 'OrigClOrdID', 'SubmitTime', 'ExecID', 'CumFee', \\\n",
    "           'SubAccount', 'Strategy', 'OrdType', 'Revision', 'LastRequestTimestamp', 'Text', \\\n",
    "          'Parameters', 'Allocation']\n",
    "df.drop(delCols, axis=1, inplace=True)\n",
    "df['Timestamp'] = pd.to_datetime(df['TransactTime'])\n",
    "df[['Group', 'Parent']] = df['Group'].str.split('/', 1, expand=True)\n",
    "df[['Parent', 'LastInChain']] = df['Parent'].str.split('/', 1, expand=True)"
   ]
  },
  {
   "cell_type": "code",
   "execution_count": 174,
   "id": "b8ba3379",
   "metadata": {},
   "outputs": [],
   "source": [
    "#Choose BTC for vol calculations\n",
    "df = df.loc[df['Symbol.1'] == 'BTC']"
   ]
  },
  {
   "cell_type": "code",
   "execution_count": 175,
   "id": "101200bc",
   "metadata": {
    "tags": []
   },
   "outputs": [],
   "source": [
    "#Dict for parentID groups\n",
    "chainDict = {}\n",
    "for ind in df.index:\n",
    "    parentID = df.loc[ind]['Parent']\n",
    "    if parentID == None:\n",
    "        continue\n",
    "    if parentID in chainDict.keys():\n",
    "        chainDict[parentID].append(ind)\n",
    "    else:\n",
    "        chainDict[parentID] = [ind]"
   ]
  },
  {
   "cell_type": "code",
   "execution_count": 176,
   "id": "36feaf6a",
   "metadata": {
    "tags": []
   },
   "outputs": [],
   "source": [
    "#Add parent to parentID group\n",
    "for ind in df.index:\n",
    "    orderID = df.loc[ind]['OrderID']\n",
    "    if orderID in chainDict.keys():\n",
    "        chainDict[orderID].append(ind)"
   ]
  },
  {
   "cell_type": "markdown",
   "id": "60706726",
   "metadata": {
    "jp-MarkdownHeadingCollapsed": true,
    "tags": []
   },
   "source": [
    "## Using time-weighted arithmetic mean"
   ]
  },
  {
   "cell_type": "code",
   "execution_count": 177,
   "id": "1985b579",
   "metadata": {
    "tags": []
   },
   "outputs": [],
   "source": [
    "def normTimeMean(df, chainDict):\n",
    "    #Parse through each order chain and calculate annnualized captured vol\n",
    "    secInYear = 365*24*60*60\n",
    "    capVol = []\n",
    "    qty = []\n",
    "    for key in chainDict.keys():\n",
    "        #Data cleanse\n",
    "        chain = df.loc[chainDict[key]][['Timestamp', 'Side', 'CumQty', 'AvgPxAllIn', 'Parent']]\n",
    "        chain = chain.sort_values(by='Timestamp',ascending=True)\n",
    "        chain['AvgPxAllIn'] = chain['AvgPxAllIn'].astype('float')\n",
    "        chain['CumQty'] = chain['CumQty'].astype('float')\n",
    "\n",
    "        #Captured vol calculations\n",
    "        chain['tDelta'] = chain['Timestamp'].diff()/np.timedelta64(1, 's')/secInYear\n",
    "        chain['logReturns'] = np.log(chain.AvgPxAllIn) - np.log(chain.AvgPxAllIn.shift(1))\n",
    "        totalTime = chain.tDelta.sum()\n",
    "        chain['TWM'] = chain.logReturns*(chain.tDelta/totalTime)\n",
    "        TWM = chain.TWM.sum()\n",
    "        chain['dev2'] = (chain.logReturns - TWM)**2\n",
    "        stdDev = np.sqrt(chain.dev2.mean())\n",
    "        annualizedCapturedVol = stdDev*np.sqrt(1/totalTime)\n",
    "        #Store captured vol and orderqty for weighted captured vol calc\n",
    "        capVol.append(annualizedCapturedVol)\n",
    "        qty.append(chain.CumQty.mean())\n",
    "    return [capVol, qty]"
   ]
  },
  {
   "cell_type": "markdown",
   "id": "ddb9d526",
   "metadata": {
    "jp-MarkdownHeadingCollapsed": true,
    "tags": []
   },
   "source": [
    "## Using root time weighted arithmetic mean"
   ]
  },
  {
   "cell_type": "code",
   "execution_count": 178,
   "id": "036a0404",
   "metadata": {
    "tags": []
   },
   "outputs": [],
   "source": [
    "def rootTimeMean(df, chainDict):   \n",
    "    #Parse through each order chain and calculate annnualized captured vol\n",
    "    secInYear = 365*24*60*60\n",
    "    capVol = []\n",
    "    qty = []\n",
    "    time = []\n",
    "    for key in chainDict.keys():\n",
    "        #Data cleanse\n",
    "        chain = df.loc[chainDict[key]][['Timestamp', 'Side', 'CumQty', 'AvgPxAllIn', 'Parent']]\n",
    "        chain = chain.sort_values(by='Timestamp',ascending=True)\n",
    "        chain['AvgPxAllIn'] = chain['AvgPxAllIn'].astype('float')\n",
    "        chain['CumQty'] = chain['CumQty'].astype('float')\n",
    "        \n",
    "        #Captured vol calculations\n",
    "        time.append(chain.iloc[-1].Timestamp)\n",
    "        chain['tDelta'] = np.sqrt(chain['Timestamp'].diff()/np.timedelta64(1, 's')/secInYear)\n",
    "        chain['logReturns'] = np.log(chain.AvgPxAllIn) - np.log(chain.AvgPxAllIn.shift(1))\n",
    "        totalTime = chain.tDelta.sum()\n",
    "        chain['TWM'] = chain.logReturns*(chain.tDelta/totalTime)\n",
    "        TWM = chain.TWM.sum()\n",
    "        chain['dev2'] = (chain.logReturns - TWM)**2\n",
    "        stdDev = np.sqrt(chain.dev2.mean())\n",
    "        chain['tDelta'] = chain['Timestamp'].diff()/np.timedelta64(1, 's')/secInYear\n",
    "        totalTime = chain.tDelta.sum()\n",
    "        annualizedCapturedVol = stdDev*np.sqrt(1/totalTime)\n",
    "        #Store captured vol and orderqty for weighted captured vol calc\n",
    "        capVol.append(annualizedCapturedVol)\n",
    "        qty.append(chain.CumQty.mean())\n",
    "    return [capVol, qty, time]"
   ]
  },
  {
   "cell_type": "markdown",
   "id": "59392a2d-8904-48cd-b59d-8597b75e40fe",
   "metadata": {
    "jp-MarkdownHeadingCollapsed": true,
    "tags": []
   },
   "source": [
    "## Include short chains"
   ]
  },
  {
   "cell_type": "code",
   "execution_count": 179,
   "id": "aae7c053-0158-4d11-b415-6b92fdcc5a75",
   "metadata": {
    "tags": []
   },
   "outputs": [],
   "source": [
    "def newRootTimeMean(df, chainDict):   \n",
    "    #Parse through each order chain and calculate annnualized captured vol\n",
    "    secInYear = 365*24*60*60\n",
    "    for key in chainDict.keys():\n",
    "        #Data cleanse\n",
    "        chain = df.loc[chainDict[key]][['Timestamp', 'Side', 'CumQty', 'AvgPxAllIn', 'Parent']]\n",
    "        chain = chain.sort_values(by='Timestamp',ascending=True)\n",
    "        chain['AvgPxAllIn'] = chain['AvgPxAllIn'].astype('float')\n",
    "        chain['CumQty'] = chain['CumQty'].astype('float')\n",
    "        \n",
    "        if len(chain.index) < 2:\n",
    "            time.append(chain.iloc[-1].Timestamp)\n",
    "            capVol.append(0)\n",
    "            qty.append(chain.CumQty.mean())\n",
    "            continue\n",
    "            \n",
    "        #Captured vol calculations\n",
    "        time.append(chain.iloc[-1].Timestamp)\n",
    "        chain['tDeltaSqrt'] = np.sqrt(chain['Timestamp'].diff()/np.timedelta64(1, 's')/secInYear)\n",
    "        chain['logReturns'] = np.log(chain.AvgPxAllIn) - np.log(chain.AvgPxAllIn.shift(1))\n",
    "        totalTimeSqrt = chain.tDeltaSqrt.sum()\n",
    "        chain['TWM'] = chain.logReturns*(chain.tDelta/totalTime)\n",
    "        TWM = chain.TWM.sum()\n",
    "        chain['dev2'] = (chain.logReturns - TWM)**2\n",
    "        stdDev = np.sqrt(chain.dev2.mean())\n",
    "        chain['tDelta'] = chain['Timestamp'].diff()/np.timedelta64(1, 's')/secInYear\n",
    "        totalTime = chain.tDelta.sum()\n",
    "        annualizedCapturedVol = stdDev*np.sqrt(1/totalTime)\n",
    "        #Store captured vol and orderqty for weighted captured vol calc\n",
    "        capVol.append(annualizedCapturedVol)\n",
    "        qty.append(chain.CumQty.mean())\n",
    "    return [capVol, time]"
   ]
  },
  {
   "cell_type": "markdown",
   "id": "55b4dbf7-aaeb-47c8-b406-de82df68e56c",
   "metadata": {
    "tags": []
   },
   "source": [
    "## Final Captured Vol Equation"
   ]
  },
  {
   "cell_type": "code",
   "execution_count": 183,
   "id": "ba77cce5-c6cf-4705-985b-992eca30b939",
   "metadata": {},
   "outputs": [],
   "source": [
    "def capturedVol(df, chainDict):\n",
    "    #Parse through each order chain and calculate log returns\n",
    "    secInYear = 365*24*60*60\n",
    "    returnsData = pd.DataFrame(columns = ['range', 'tDelta'])\n",
    "    for key in chainDict.keys():\n",
    "        #Data cleanse\n",
    "        chain = []\n",
    "        #print(chainDict[key])\n",
    "        chain = df.loc[chainDict[key]][['Timestamp', 'Price', 'User']]\n",
    "        #print(chain)\n",
    "        chain = chain.sort_values(by='Timestamp',ascending=True)\n",
    "        chain['Price'] = chain['Price'].astype('float')\n",
    "        \n",
    "        #print(chain) \n",
    "        if len(chain.index) < 2:\n",
    "            continue\n",
    "        \n",
    "        chain['range'] = (np.log(chain.Price) - np.log(chain.Price.shift(1)))/np.sqrt((chain.Timestamp - chain.Timestamp.shift(1))/np.timedelta64(1, 's')/secInYear)\n",
    "        chain['tDelta'] = np.sqrt((chain.Timestamp - chain.Timestamp.shift(1))/np.timedelta64(1, 's')/secInYear)\n",
    "        #print(chain)\n",
    "        chain = chain[['range', 'tDelta']].dropna()\n",
    "        \n",
    "        \n",
    "        #print(chain)\n",
    "        returnsData = pd.concat([returnsData, chain])\n",
    "        #print(len(returnsData))\n",
    "\n",
    "    capVol = (returnsData['range'].std())/np.sqrt(365/returnsData['tDelta'].sum())\n",
    "    \n",
    "    return capVol, returnsData"
   ]
  },
  {
   "cell_type": "markdown",
   "id": "0f80cad5",
   "metadata": {},
   "source": [
    "## Final Mean Calc"
   ]
  },
  {
   "cell_type": "code",
   "execution_count": 184,
   "id": "2d208705",
   "metadata": {
    "tags": []
   },
   "outputs": [
    {
     "name": "stdout",
     "output_type": "stream",
     "text": [
      "Mean annualized captured volatility: 18.889%\n"
     ]
    }
   ],
   "source": [
    "capVol, returnsData = capturedVol(df, chainDict)\n",
    "print(\"Mean annualized captured volatility: \" + str(round(capVol*100, 3)) + \"%\")"
   ]
  },
  {
   "cell_type": "code",
   "execution_count": 182,
   "id": "4940b6c9-517f-44bc-8121-7843da893a34",
   "metadata": {},
   "outputs": [
    {
     "data": {
      "text/html": [
       "<div>\n",
       "<style scoped>\n",
       "    .dataframe tbody tr th:only-of-type {\n",
       "        vertical-align: middle;\n",
       "    }\n",
       "\n",
       "    .dataframe tbody tr th {\n",
       "        vertical-align: top;\n",
       "    }\n",
       "\n",
       "    .dataframe thead th {\n",
       "        text-align: right;\n",
       "    }\n",
       "</style>\n",
       "<table border=\"1\" class=\"dataframe\">\n",
       "  <thead>\n",
       "    <tr style=\"text-align: right;\">\n",
       "      <th></th>\n",
       "      <th>Timestamp</th>\n",
       "      <th>User</th>\n",
       "      <th>Symbol</th>\n",
       "      <th>OrderID</th>\n",
       "      <th>Side</th>\n",
       "      <th>TransactTime</th>\n",
       "      <th>OrderQty</th>\n",
       "      <th>Price</th>\n",
       "      <th>Symbol.1</th>\n",
       "      <th>CumQty</th>\n",
       "      <th>AvgPx</th>\n",
       "      <th>CumAmt</th>\n",
       "      <th>AvgPxAllIn</th>\n",
       "      <th>Group</th>\n",
       "      <th>Parent</th>\n",
       "      <th>LastInChain</th>\n",
       "    </tr>\n",
       "  </thead>\n",
       "  <tbody>\n",
       "    <tr>\n",
       "      <th>20</th>\n",
       "      <td>2022-06-08 14:30:19.069000+00:00</td>\n",
       "      <td>Contingent-API</td>\n",
       "      <td>ftx:BTC-PERP</td>\n",
       "      <td>74089028-b2af-4649-bb07-4a2aa33f1c69</td>\n",
       "      <td>Buy</td>\n",
       "      <td>2022-06-08T14:30:19.069000Z</td>\n",
       "      <td>29.68013</td>\n",
       "      <td>30454.31944621463</td>\n",
       "      <td>BTC</td>\n",
       "      <td>29.6801</td>\n",
       "      <td>30452.62287526</td>\n",
       "      <td>903836.8922</td>\n",
       "      <td>30452.76983346</td>\n",
       "      <td>contingent</td>\n",
       "      <td>1a73f116-a513-477e-a095-b911eb4a8485</td>\n",
       "      <td>1a73f116-a513-477e-a095-b911eb4a8485</td>\n",
       "    </tr>\n",
       "    <tr>\n",
       "      <th>25</th>\n",
       "      <td>2022-06-08 13:35:08.238000+00:00</td>\n",
       "      <td>Contingent-API</td>\n",
       "      <td>ftx:BTC-PERP</td>\n",
       "      <td>b7839b51-84f0-42dd-a63d-8802bc64c12b</td>\n",
       "      <td>Sell</td>\n",
       "      <td>2022-06-08T13:35:08.238000Z</td>\n",
       "      <td>15.14955</td>\n",
       "      <td>30422.89033762416</td>\n",
       "      <td>BTC</td>\n",
       "      <td>15.1495</td>\n",
       "      <td>30425.10310571</td>\n",
       "      <td>460925.0995</td>\n",
       "      <td>30423.84974501</td>\n",
       "      <td>contingent</td>\n",
       "      <td>5420e731-cdb0-44c8-8e7a-fd1cff21f2f4</td>\n",
       "      <td>5420e731-cdb0-44c8-8e7a-fd1cff21f2f4</td>\n",
       "    </tr>\n",
       "    <tr>\n",
       "      <th>37</th>\n",
       "      <td>2022-06-08 13:49:32.180000+00:00</td>\n",
       "      <td>Contingent-Yuan-API</td>\n",
       "      <td>ftx:BTC-PERP</td>\n",
       "      <td>1a73f116-a513-477e-a095-b911eb4a8485</td>\n",
       "      <td>Sell</td>\n",
       "      <td>2022-06-08T13:49:32.180000Z</td>\n",
       "      <td>29.68013</td>\n",
       "      <td>30700.6799</td>\n",
       "      <td>BTC</td>\n",
       "      <td>29.6801</td>\n",
       "      <td>30730.89752393</td>\n",
       "      <td>912096.1116</td>\n",
       "      <td>30728.47127231</td>\n",
       "      <td>Contingent(90.0bps)</td>\n",
       "      <td>None</td>\n",
       "      <td>None</td>\n",
       "    </tr>\n",
       "    <tr>\n",
       "      <th>38</th>\n",
       "      <td>2022-06-08 12:26:00.546000+00:00</td>\n",
       "      <td>Contingent-Yuan-API</td>\n",
       "      <td>ftx:BTC-PERP</td>\n",
       "      <td>5420e731-cdb0-44c8-8e7a-fd1cff21f2f4</td>\n",
       "      <td>Buy</td>\n",
       "      <td>2022-06-08T12:26:00.546000Z</td>\n",
       "      <td>15.14955</td>\n",
       "      <td>30152.9968</td>\n",
       "      <td>BTC</td>\n",
       "      <td>15.1495</td>\n",
       "      <td>30151.52659824</td>\n",
       "      <td>456780.5522</td>\n",
       "      <td>30151.84825073</td>\n",
       "      <td>Contingent(90.0bps)</td>\n",
       "      <td>None</td>\n",
       "      <td>None</td>\n",
       "    </tr>\n",
       "    <tr>\n",
       "      <th>120</th>\n",
       "      <td>2022-06-07 14:37:32.307000+00:00</td>\n",
       "      <td>Contingent-Yuan-API</td>\n",
       "      <td>ftx:BTC-PERP</td>\n",
       "      <td>ccda9ad5-7c4e-427d-a408-6f8fe38e5cca</td>\n",
       "      <td>Sell</td>\n",
       "      <td>2022-06-07T14:37:32.307000Z</td>\n",
       "      <td>45.608365</td>\n",
       "      <td>29852.1215</td>\n",
       "      <td>BTC</td>\n",
       "      <td>45.6083</td>\n",
       "      <td>29853.29178022</td>\n",
       "      <td>1361557.8875</td>\n",
       "      <td>29852.34993836</td>\n",
       "      <td>Contingent(90.0bps)</td>\n",
       "      <td>None</td>\n",
       "      <td>None</td>\n",
       "    </tr>\n",
       "    <tr>\n",
       "      <th>...</th>\n",
       "      <td>...</td>\n",
       "      <td>...</td>\n",
       "      <td>...</td>\n",
       "      <td>...</td>\n",
       "      <td>...</td>\n",
       "      <td>...</td>\n",
       "      <td>...</td>\n",
       "      <td>...</td>\n",
       "      <td>...</td>\n",
       "      <td>...</td>\n",
       "      <td>...</td>\n",
       "      <td>...</td>\n",
       "      <td>...</td>\n",
       "      <td>...</td>\n",
       "      <td>...</td>\n",
       "      <td>...</td>\n",
       "    </tr>\n",
       "    <tr>\n",
       "      <th>40485</th>\n",
       "      <td>2022-03-19 02:23:46.137000+00:00</td>\n",
       "      <td>Contingent-API</td>\n",
       "      <td>ftx:BTC-PERP</td>\n",
       "      <td>5057664a-d040-4369-80a0-491276a9bdb8</td>\n",
       "      <td>Buy</td>\n",
       "      <td>2022-03-19T02:23:46.137000Z</td>\n",
       "      <td>9.0510</td>\n",
       "      <td>41684</td>\n",
       "      <td>BTC</td>\n",
       "      <td>1.3773</td>\n",
       "      <td>41684</td>\n",
       "      <td>57411.3732</td>\n",
       "      <td>41680.66528</td>\n",
       "      <td>contingent</td>\n",
       "      <td>bda00947-ddaa-44d1-8a1b-837a72d17697</td>\n",
       "      <td>556665a5-14f4-4bc0-a499-9bab15e3bf3c</td>\n",
       "    </tr>\n",
       "    <tr>\n",
       "      <th>40544</th>\n",
       "      <td>2022-03-18 23:37:56.085000+00:00</td>\n",
       "      <td>Contingent-API</td>\n",
       "      <td>ftx:BTC-PERP</td>\n",
       "      <td>556665a5-14f4-4bc0-a499-9bab15e3bf3c</td>\n",
       "      <td>Sell</td>\n",
       "      <td>2022-03-18T23:37:56.085000Z</td>\n",
       "      <td>9.0510</td>\n",
       "      <td>41888</td>\n",
       "      <td>BTC</td>\n",
       "      <td>9.0510</td>\n",
       "      <td>41888.20119324</td>\n",
       "      <td>379130.109</td>\n",
       "      <td>41888.30459879</td>\n",
       "      <td>contingent</td>\n",
       "      <td>bda00947-ddaa-44d1-8a1b-837a72d17697</td>\n",
       "      <td>bda00947-ddaa-44d1-8a1b-837a72d17697</td>\n",
       "    </tr>\n",
       "    <tr>\n",
       "      <th>40573</th>\n",
       "      <td>2022-03-19 00:34:06.348000+00:00</td>\n",
       "      <td>Contingent-API</td>\n",
       "      <td>ftx:BTC-PERP</td>\n",
       "      <td>fa674061-6064-46d3-81cb-293e6917a2e9</td>\n",
       "      <td>Sell</td>\n",
       "      <td>2022-03-19T00:34:06.348000Z</td>\n",
       "      <td>9.0999</td>\n",
       "      <td>41934</td>\n",
       "      <td>BTC</td>\n",
       "      <td>9.0999</td>\n",
       "      <td>41936.15552918</td>\n",
       "      <td>381614.8217</td>\n",
       "      <td>41933.97532816</td>\n",
       "      <td>contingent</td>\n",
       "      <td>70459796-b35f-41a5-bdc3-5438ca401d02</td>\n",
       "      <td>70459796-b35f-41a5-bdc3-5438ca401d02</td>\n",
       "    </tr>\n",
       "    <tr>\n",
       "      <th>40596</th>\n",
       "      <td>2022-03-18 22:04:30.529000+00:00</td>\n",
       "      <td>Contingent-API</td>\n",
       "      <td>ftx:BTC-PERP</td>\n",
       "      <td>77c0b700-0eae-4855-bfd1-388905d79c14</td>\n",
       "      <td>Buy</td>\n",
       "      <td>2022-03-18T22:04:30.529000Z</td>\n",
       "      <td>9.0999</td>\n",
       "      <td>41810</td>\n",
       "      <td>BTC</td>\n",
       "      <td>9.0999</td>\n",
       "      <td>41807.83121793</td>\n",
       "      <td>380447.0833</td>\n",
       "      <td>41813.04564473</td>\n",
       "      <td>contingent</td>\n",
       "      <td>00a5353d-cbac-49a2-b304-e688d5ea3987</td>\n",
       "      <td>45815b58-bf37-429c-943e-a3b796a9ac4c</td>\n",
       "    </tr>\n",
       "    <tr>\n",
       "      <th>40597</th>\n",
       "      <td>2022-03-18 22:01:02.137000+00:00</td>\n",
       "      <td>Contingent-API</td>\n",
       "      <td>ftx:BTC-PERP</td>\n",
       "      <td>45815b58-bf37-429c-943e-a3b796a9ac4c</td>\n",
       "      <td>Sell</td>\n",
       "      <td>2022-03-18T22:01:02.137000Z</td>\n",
       "      <td>9.0999</td>\n",
       "      <td>41828</td>\n",
       "      <td>BTC</td>\n",
       "      <td>9.0999</td>\n",
       "      <td>41841.98292289</td>\n",
       "      <td>380757.8604</td>\n",
       "      <td>41835.70662545</td>\n",
       "      <td>contingent</td>\n",
       "      <td>00a5353d-cbac-49a2-b304-e688d5ea3987</td>\n",
       "      <td>00a5353d-cbac-49a2-b304-e688d5ea3987</td>\n",
       "    </tr>\n",
       "  </tbody>\n",
       "</table>\n",
       "<p>1809 rows × 16 columns</p>\n",
       "</div>"
      ],
      "text/plain": [
       "                             Timestamp                 User        Symbol  \\\n",
       "20    2022-06-08 14:30:19.069000+00:00       Contingent-API  ftx:BTC-PERP   \n",
       "25    2022-06-08 13:35:08.238000+00:00       Contingent-API  ftx:BTC-PERP   \n",
       "37    2022-06-08 13:49:32.180000+00:00  Contingent-Yuan-API  ftx:BTC-PERP   \n",
       "38    2022-06-08 12:26:00.546000+00:00  Contingent-Yuan-API  ftx:BTC-PERP   \n",
       "120   2022-06-07 14:37:32.307000+00:00  Contingent-Yuan-API  ftx:BTC-PERP   \n",
       "...                                ...                  ...           ...   \n",
       "40485 2022-03-19 02:23:46.137000+00:00       Contingent-API  ftx:BTC-PERP   \n",
       "40544 2022-03-18 23:37:56.085000+00:00       Contingent-API  ftx:BTC-PERP   \n",
       "40573 2022-03-19 00:34:06.348000+00:00       Contingent-API  ftx:BTC-PERP   \n",
       "40596 2022-03-18 22:04:30.529000+00:00       Contingent-API  ftx:BTC-PERP   \n",
       "40597 2022-03-18 22:01:02.137000+00:00       Contingent-API  ftx:BTC-PERP   \n",
       "\n",
       "                                    OrderID  Side  \\\n",
       "20     74089028-b2af-4649-bb07-4a2aa33f1c69   Buy   \n",
       "25     b7839b51-84f0-42dd-a63d-8802bc64c12b  Sell   \n",
       "37     1a73f116-a513-477e-a095-b911eb4a8485  Sell   \n",
       "38     5420e731-cdb0-44c8-8e7a-fd1cff21f2f4   Buy   \n",
       "120    ccda9ad5-7c4e-427d-a408-6f8fe38e5cca  Sell   \n",
       "...                                     ...   ...   \n",
       "40485  5057664a-d040-4369-80a0-491276a9bdb8   Buy   \n",
       "40544  556665a5-14f4-4bc0-a499-9bab15e3bf3c  Sell   \n",
       "40573  fa674061-6064-46d3-81cb-293e6917a2e9  Sell   \n",
       "40596  77c0b700-0eae-4855-bfd1-388905d79c14   Buy   \n",
       "40597  45815b58-bf37-429c-943e-a3b796a9ac4c  Sell   \n",
       "\n",
       "                      TransactTime   OrderQty              Price Symbol.1  \\\n",
       "20     2022-06-08T14:30:19.069000Z   29.68013  30454.31944621463      BTC   \n",
       "25     2022-06-08T13:35:08.238000Z   15.14955  30422.89033762416      BTC   \n",
       "37     2022-06-08T13:49:32.180000Z   29.68013         30700.6799      BTC   \n",
       "38     2022-06-08T12:26:00.546000Z   15.14955         30152.9968      BTC   \n",
       "120    2022-06-07T14:37:32.307000Z  45.608365         29852.1215      BTC   \n",
       "...                            ...        ...                ...      ...   \n",
       "40485  2022-03-19T02:23:46.137000Z     9.0510              41684      BTC   \n",
       "40544  2022-03-18T23:37:56.085000Z     9.0510              41888      BTC   \n",
       "40573  2022-03-19T00:34:06.348000Z     9.0999              41934      BTC   \n",
       "40596  2022-03-18T22:04:30.529000Z     9.0999              41810      BTC   \n",
       "40597  2022-03-18T22:01:02.137000Z     9.0999              41828      BTC   \n",
       "\n",
       "        CumQty           AvgPx        CumAmt      AvgPxAllIn  \\\n",
       "20     29.6801  30452.62287526   903836.8922  30452.76983346   \n",
       "25     15.1495  30425.10310571   460925.0995  30423.84974501   \n",
       "37     29.6801  30730.89752393   912096.1116  30728.47127231   \n",
       "38     15.1495  30151.52659824   456780.5522  30151.84825073   \n",
       "120    45.6083  29853.29178022  1361557.8875  29852.34993836   \n",
       "...        ...             ...           ...             ...   \n",
       "40485   1.3773           41684    57411.3732     41680.66528   \n",
       "40544   9.0510  41888.20119324    379130.109  41888.30459879   \n",
       "40573   9.0999  41936.15552918   381614.8217  41933.97532816   \n",
       "40596   9.0999  41807.83121793   380447.0833  41813.04564473   \n",
       "40597   9.0999  41841.98292289   380757.8604  41835.70662545   \n",
       "\n",
       "                     Group                                Parent  \\\n",
       "20              contingent  1a73f116-a513-477e-a095-b911eb4a8485   \n",
       "25              contingent  5420e731-cdb0-44c8-8e7a-fd1cff21f2f4   \n",
       "37     Contingent(90.0bps)                                  None   \n",
       "38     Contingent(90.0bps)                                  None   \n",
       "120    Contingent(90.0bps)                                  None   \n",
       "...                    ...                                   ...   \n",
       "40485           contingent  bda00947-ddaa-44d1-8a1b-837a72d17697   \n",
       "40544           contingent  bda00947-ddaa-44d1-8a1b-837a72d17697   \n",
       "40573           contingent  70459796-b35f-41a5-bdc3-5438ca401d02   \n",
       "40596           contingent  00a5353d-cbac-49a2-b304-e688d5ea3987   \n",
       "40597           contingent  00a5353d-cbac-49a2-b304-e688d5ea3987   \n",
       "\n",
       "                                LastInChain  \n",
       "20     1a73f116-a513-477e-a095-b911eb4a8485  \n",
       "25     5420e731-cdb0-44c8-8e7a-fd1cff21f2f4  \n",
       "37                                     None  \n",
       "38                                     None  \n",
       "120                                    None  \n",
       "...                                     ...  \n",
       "40485  556665a5-14f4-4bc0-a499-9bab15e3bf3c  \n",
       "40544  bda00947-ddaa-44d1-8a1b-837a72d17697  \n",
       "40573  70459796-b35f-41a5-bdc3-5438ca401d02  \n",
       "40596  45815b58-bf37-429c-943e-a3b796a9ac4c  \n",
       "40597  00a5353d-cbac-49a2-b304-e688d5ea3987  \n",
       "\n",
       "[1809 rows x 16 columns]"
      ]
     },
     "execution_count": 182,
     "metadata": {},
     "output_type": "execute_result"
    }
   ],
   "source": [
    "df"
   ]
  },
  {
   "cell_type": "markdown",
   "id": "d0677ff4",
   "metadata": {},
   "source": [
    "## Spot price data cleanse"
   ]
  },
  {
   "cell_type": "code",
   "execution_count": 10,
   "id": "2209f096",
   "metadata": {},
   "outputs": [
    {
     "name": "stderr",
     "output_type": "stream",
     "text": [
      "C:\\Users\\TBaker\\AppData\\Local\\Temp\\ipykernel_11636\\3626861056.py:2: SettingWithCopyWarning: \n",
      "A value is trying to be set on a copy of a slice from a DataFrame.\n",
      "Try using .loc[row_indexer,col_indexer] = value instead\n",
      "\n",
      "See the caveats in the documentation: https://pandas.pydata.org/pandas-docs/stable/user_guide/indexing.html#returning-a-view-versus-a-copy\n",
      "  spotPrice.loc[:,'Price'] = spotPrice['Price'].astype('float')\n"
     ]
    }
   ],
   "source": [
    "spotPrice = df[['Timestamp', 'Price']]\n",
    "spotPrice.loc[:,'Price'] = spotPrice['Price'].astype('float')\n",
    "spotPrice = spotPrice.sort_values(by='Timestamp',ascending=False)\n"
   ]
  },
  {
   "cell_type": "markdown",
   "id": "a3cf122d",
   "metadata": {},
   "source": [
    "## Rolling volatility calculations"
   ]
  },
  {
   "cell_type": "code",
   "execution_count": 11,
   "id": "7440ccb7",
   "metadata": {},
   "outputs": [],
   "source": [
    "rv = pd.DataFrame({'time':time, 'capVol':capVol, 'qty':qty})\n",
    "rv = rv.sort_values(by='time',ascending=True)\n",
    "rolQty = rv.qty.values\n",
    "capVols = rv.capVol.values\n",
    "\n",
    "rollingVol = []\n",
    "for i in range(1, len(qty)+1):\n",
    "    vols = capVols[0:i+1]\n",
    "    counts = rolQty[0:i+1]\n",
    "    rollingVol.append(np.average(vols, weights = counts))\n"
   ]
  },
  {
   "cell_type": "code",
   "execution_count": 12,
   "id": "0452df65",
   "metadata": {},
   "outputs": [
    {
     "data": {
      "image/png": "[encoded data removed]",
      "text/plain": [
       "<Figure size 432x288 with 2 Axes>"
      ]
     },
     "metadata": {
      "needs_background": "light"
     },
     "output_type": "display_data"
    }
   ],
   "source": [
    "# Plot spot price and rolling volatility data\n",
    "ax1 = plt.subplot()\n",
    "l1, = ax1.plot(spotPrice.Timestamp, spotPrice.Price, color='red')\n",
    "ax2 = ax1.twinx()\n",
    "l2, = ax2.plot(rv.time, rollingVol, color='orange')\n",
    "plt.legend([l1, l2], [\"Bitcoin Spot Price\", \"Rolling Captured Volatility\"])\n",
    "ax1.set_ylabel(\"Bitcoin Price USD\")\n",
    "ax1.set_xlabel(\"Date\")\n",
    "ax2.set_ylabel(\"Average Volatility\")\n",
    "for tick in ax1.get_xticklabels():\n",
    "    tick.set_rotation(45)\n",
    "plt.show()"
   ]
  },
  {
   "cell_type": "markdown",
   "id": "f071bad1",
   "metadata": {},
   "source": [
    "## Captured Vol as Function of BPS"
   ]
  },
  {
   "cell_type": "code",
   "execution_count": 13,
   "id": "a5f72318",
   "metadata": {},
   "outputs": [],
   "source": [
    "# Function for grouping order chains based on their bps\n",
    "def getBpsDict(bps):\n",
    "    bpsDict = {}\n",
    "    for key in chainDict.keys():\n",
    "        #Data cleanse\n",
    "        cont = df.loc[chainDict[key]][['Group']].iloc[-1][0]\n",
    "        if cont == \"contingent\":\n",
    "            continue\n",
    "        bpsParent = int(cont.split('(')[1][0:2])\n",
    "        if bps == bpsParent:\n",
    "            bpsDict[key] = chainDict[key]\n",
    "    return bpsDict"
   ]
  },
  {
   "cell_type": "code",
   "execution_count": 14,
   "id": "83ba071d",
   "metadata": {},
   "outputs": [
    {
     "name": "stdout",
     "output_type": "stream",
     "text": [
      "[50, 65, 75, 85, 90] [0.190568796352924, 0.3805174284335034, 0.43854704541774076, 0.40853229457062706, 0.35269985743140736]\n"
     ]
    }
   ],
   "source": [
    "# Left out 95 bps as there's not enough order chains to create reliable captured vol numbers\n",
    "bpsList = [50, 65, 75, 85, 90]\n",
    "capVolList = []\n",
    "for bps in bpsList:\n",
    "    bpsDict = getBpsDict(bps)\n",
    "    [capVol, qty] = normTimeMean(df, bpsDict)\n",
    "    capVolList.append(np.average(capVol, weights = qty))\n",
    "\n",
    "print(bpsList, capVolList)"
   ]
  },
  {
   "cell_type": "code",
   "execution_count": 15,
   "id": "0eacba56",
   "metadata": {},
   "outputs": [
    {
     "data": {
      "image/png": "[encoded data removed]",
      "text/plain": [
       "<Figure size 432x288 with 1 Axes>"
      ]
     },
     "metadata": {
      "needs_background": "light"
     },
     "output_type": "display_data"
    }
   ],
   "source": [
    "plt.title(\"Captured Vol as Function of BPS Ladder Used\") \n",
    "plt.xlabel(\"BPS\") \n",
    "plt.ylabel(\"Captured Vol\") \n",
    "plt.plot(bpsList,capVolList) \n",
    "plt.show()"
   ]
  },
  {
   "cell_type": "code",
   "execution_count": 16,
   "id": "71b4b265",
   "metadata": {},
   "outputs": [],
   "source": [
    "capVol = pd.DataFrame({'time': rv.time, 'rollingCapVol': rollingVol})"
   ]
  },
  {
   "cell_type": "code",
   "execution_count": 17,
   "id": "95565e31",
   "metadata": {},
   "outputs": [],
   "source": [
    "rv.to_csv('rollingCapturedVol.csv')"
   ]
  },
  {
   "cell_type": "code",
   "execution_count": 18,
   "id": "7eca520a",
   "metadata": {},
   "outputs": [
    {
     "data": {
      "text/plain": [
       "527"
      ]
     },
     "execution_count": 18,
     "metadata": {},
     "output_type": "execute_result"
    }
   ],
   "source": [
    "len(parentDict.keys())"
   ]
  },
  {
   "cell_type": "code",
   "execution_count": 19,
   "id": "df687203-c13c-49b9-83e8-ae6acc9f56b6",
   "metadata": {},
   "outputs": [
    {
     "data": {
      "text/plain": [
       "256"
      ]
     },
     "execution_count": 19,
     "metadata": {},
     "output_type": "execute_result"
    }
   ],
   "source": [
    "len(chainDict.keys())"
   ]
  },
  {
   "cell_type": "code",
   "execution_count": 35,
   "id": "5bb06a37-1f0f-4bdb-b6a1-64d495a0f88c",
   "metadata": {},
   "outputs": [
    {
     "data": {
      "text/plain": [
       "dict_keys(['00280199-7535-402c-8fc7-d3d4b495d6d6', '00a5353d-cbac-49a2-b304-e688d5ea3987', '02ae2476-9b9a-46d6-9a63-3e45e660872a', '02fc9745-691e-4e33-b022-3690c7af71f7', '03279f36-5e3e-4c72-b4f3-9d00c8626225', '0328b97d-d79d-4047-9b88-fd274b71207d', '04b5e824-69bc-4de6-bde8-c470a99f06f9', '05370791-1484-4663-8647-8464d8b50d8e', '0555a9ad-fdd0-49d4-98f1-53d2e72feea8', '05b69563-4646-4161-943d-b0c7361cd11e', '060d29af-d333-46a8-a7fc-5d4b95217859', '0615da97-a66b-4590-bcaf-51de6ae0017e', '06365817-7fe1-4f4d-ae28-f84a3954ecb6', '0680b8ab-40b0-4f07-bebd-c30f1a6e1afe', '06b080fc-0067-450c-b654-692e171d1dfd', '07233fde-dbe3-477c-a97e-57123c756c66', '077763b6-1c95-46f4-8345-66552588484b', '07bb2295-c728-40db-8d81-e620a254022f', '08379094-b564-4da8-9b82-90d857b468fe', '087fb4d0-9062-4282-9152-874015d3bee3', '08b6b783-df02-40a8-81dd-ee3c1697665f', '08e60fa7-2068-4f5b-9567-8275febb2510', '09354ce1-2063-454c-9804-6ea09a568f38', '09ebab73-43b4-452b-a73a-07326835271f', '0a25c502-3fcc-4ed3-a829-b33bdd17504c', '0a4fe7dd-8614-4901-bc72-bccb9cb30563', '0a719d77-4330-4903-870c-5e672bf25267', '0b9efacd-9ba3-4973-a135-fe6df485193f', '0da330fe-325e-406f-80ea-775850cf9c74', '0db7501c-0818-4ee5-a328-1bce4df61fcf', '0e358e29-bf64-4025-9d6e-db83638ada2d', '10ce572e-3a99-42a8-a064-51a52b1a4ba2', '11087765-d584-4b9e-9b0d-a6b453724d0a', '11255894-5147-4955-ac79-8dc9e4147dd7', '11469df8-f5c2-4d96-accf-e91580857ddc', '11682f54-af69-4f56-8841-803641d1ac5d', '11854c56-d73d-452f-8f0b-4d21265e58e4', '11f9a2e1-d13d-4a1c-857c-baaaf6ac8053', '12a85148-1183-4809-bbe9-0d8962f6eb5e', '130a5e24-8ee8-4eb7-852d-dafa2133b8f6', '132ce0d5-c13f-4506-bd8e-9fea386e0ac7', '13cee7e5-ba62-4895-bbdc-c203293cc07c', '13d7274f-4874-4db7-9870-3df6d4f39031', '1413aa12-4957-4035-b659-2f7e559e3bfc', '145ededd-fd03-4674-9d51-9b1898310da8', '14f17b29-dfc7-46b8-86a8-739504fedfb6', '15409af6-6562-4f09-99a3-b856834a4f52', '15f021f0-0a1f-40f1-b56d-3929bd735ec7', '1645d104-de27-4c7a-b8ad-443a5e060f41', '16d8db15-ed84-467f-be15-cd5a1bc073b6', '1772a419-9fe0-4379-8e0d-22c07bde6b96', '18bf35c0-f31e-43e0-9783-6d9de0066ca8', '1907006a-8c3e-4faa-a4f2-42b6fca32df1', '1a73f116-a513-477e-a095-b911eb4a8485', '1a8bb94c-7b07-415d-874f-7bbf5e2812dc', '1bc62f48-bbf3-42a0-bedf-4739c1c0990e', '1c08734d-a3ba-4f41-9e5a-2fcab9b2f9be', '1cb28045-2811-4503-8bd3-74aa8cf70db0', '1d98b6e3-8e60-4001-80f2-3a32bd0fac09', '1e151f94-45b2-46c3-92df-d47b86b74e9a', '1e8a8b0d-32a1-41d5-8395-f2c1a61e11fe', '1ec30f66-3198-4467-9ff0-8dcab5e26731', '1f25165f-a3fa-4670-b095-3f6902b9cb1e', '1f440e1b-a149-4093-b395-a97c2ee6d753', '1f9e7f21-6965-499d-9009-a3f57963b462', '1fc1c62f-07df-480e-b82c-c816334fd252', '20957013-e844-477c-b659-fbf5d00a9f9e', '20bb87ce-2f25-4b64-ae6f-b70e0652548a', '21770c0e-3791-44d2-92cb-ec38c9b491af', '21c4de05-f9df-4b4e-9164-9e301469a3e6', '22210d9c-fec7-46f7-9bd8-8b14912e5d8e', '2255a335-3a46-4b4d-b678-6d6646e381ec', '226807ac-77ef-4c63-8e82-a936192589ad', '242af400-dba0-42c8-af94-8b88310fb0a8', '24360565-be02-4217-b805-2240ec253fe3', '24530ae4-8774-430c-b4db-0be0618d45a5', '2455c7f1-b105-4959-819c-8971e3c4ad0e', '24749dab-ee00-4e1c-b3ca-5d1cdceffcd0', '24c0f43c-934e-48f7-bf1b-20d27f5fc3fd', '24e76cd2-2672-4fc3-bdda-4777a6d6e069', '24f918dd-ccc4-4915-8869-a089cdf28943', '24fd2d04-957d-440b-90e0-4ad76edda5a4', '2522f6e6-f520-4152-b81d-1a594f0080c3', '25b67a94-f57e-4697-b701-aaa2f8ec48d7', '25eb046f-a336-43bd-800f-cf285c3ce2ad', '2627ea56-610c-4d0b-a96b-ef9ff5145dd7', '26ebf4ac-0c26-4bb7-8b0b-261c901b29b7', '27171d5b-0a57-43d2-9c04-8e7dd249a3d4', '27a22592-7bff-41e0-a707-190ab5b32536', '27f380a3-0e34-414c-8258-4d1a283d40f0', '286a8d93-f9de-4495-ba4d-513bf2ba5aed', '28954725-4776-45a9-92cc-54a291bdf1ac', '28cad856-bf1c-4872-87c1-21c71d17291a', '296f7dac-435a-4eb4-91c4-74e0d0058251', '298e5606-cb78-4d11-8b9a-6afb22c5eacf', '29db7b7f-4a85-486f-9fd5-71408c62aa26', '2a4ca7b7-8308-4b46-b75c-11d2683c3a46', '2a872575-d99c-4be3-9d48-dce814250c80', '2c3082e1-007d-4d4b-8742-29766b6eb85d', '2c4800ca-1832-4d6b-9082-ea86dd465378', '2c6ea059-77a7-417e-a8c5-de7c474ff3a8', '2cd97e25-92c5-4f66-b506-58e9b6b77d60', '2d78d27a-80e7-4568-92b3-335c04473d8b', '2ecca1a6-6197-47bb-88d2-785e9aca9934', '2f1f25ec-1c54-4477-a23d-9f905f25b5fd', '30348f2f-7103-4827-8ee3-9e94931c1452', '303df9a4-4f1d-4922-a517-551159f2425e', '31a1ec44-d7d4-4694-b7ca-a505060c01f1', '31b1d6e6-cae1-4866-a8d8-a2c040e652e5', '32860e4a-57bf-4483-81dd-8f597b371788', '32e92662-be92-428e-8888-f01b7fb08602', '3301dbbe-49af-4c62-8448-9e182accc88c', '341ca6f0-15ab-4db5-8af7-b92f82dc18fc', '347242dd-8262-4383-b9e4-9a4be9b47570', '3480d1c1-5c11-48eb-98a0-fc3eb63fd658', '3492f321-8d28-46bb-8db5-12a2600a58a4', '350c298d-4976-4c9b-946f-760aee677149', '3518fa45-63c4-4186-b57c-1f72c220d313', '35772aa9-f635-46fb-b714-04472f3bd110', '364161e1-efba-4081-bb3f-e0ed228b9084', '3672be8a-2708-43d9-a36d-62af020e73fc', '369ef922-018c-43b6-a5f9-4c112fbc532e', '36b73381-fed0-460c-a5d6-b174d389f955', '3701f8bd-e33d-4762-ad27-6bebdd500857', '373629a6-2a43-4289-bad1-315b87655f1c', '37485f36-ffe3-41b6-8625-ae896a7018a9', '3919932a-eb6a-42e0-ac8f-b9f9c5bc7e21', '399ce5d5-b28a-4f4c-b100-75f58c227bb9', '39b05054-6115-4e97-9960-7ee67544a5f1', '3b9d14f9-9d25-45e9-aee6-63a347227bc6', '3ba42c3f-5e58-44ed-8438-add10fed1e1a', '3bcc5f51-7781-4835-99eb-a958c3d4459f', '3cf1d29a-984e-4a9e-ae91-5c773ce27c97', '3d02baa6-4eb4-4b36-9996-7b8fb464852d', '3d176394-ca3a-47eb-9747-71cfc95049e4', '3d515fb3-abef-4b2f-9612-75e20e058896', '3d64fb59-1842-45bc-9c2b-7c00d8ce529f', '3de0be3e-935d-4e7b-a812-81a453a2ce88', '3dee3ec7-fe3b-4acc-916a-ad25592a4b22', '3e5e6e3d-f327-4d5c-9802-5244613b59a2', '4013fb2c-8565-4859-91b6-f9c6f93a6a26', '402c4363-f81b-4bdf-8024-edf1a1034b5a', '4047f19c-03ce-427e-9260-a40ff100d5ed', '40959604-b655-4f6a-896a-9d262d785a8c', '4100124a-c65b-4b32-b4cd-d54747c25fc8', '4193d3f8-a1fe-4230-8de9-b2f7f8e205cf', '4300e5dc-5f35-451f-bae1-f51df49f4d8b', '4362ffc0-fd1c-4522-a433-efd897414167', '4382023e-63cd-48f1-b4d7-f985069c53af', '4470b666-5808-417e-8cd4-c24c28c33d32', '4472cc63-2133-4779-bb6f-30fac8521fe6', '44e5e13c-d55f-4377-9b33-c244837774d9', '4510fab9-b2fc-4c2d-bcae-3e0e30f8d5c6', '463d810d-ad69-42e4-b0a4-1062144abec5', '466398b1-de49-42c6-8ac0-9cde208b516f', '46fd76db-3989-4e03-8685-f7c97c479cee', '4700d121-dd39-41ad-81bd-0627515d597b', '4744ac11-be5d-4bed-a1f6-98e52d4cdb59', '47677483-a53e-4127-8657-04a2643cab56', '4799ff90-5203-44e8-906b-c265b141fa96', '479a3171-5505-44d0-ba36-9035c938d879', '47ee2a60-214f-4a16-9c32-bedb42fabf88', '49b62976-0aee-419c-8591-91b35147a8a3', '4a6da627-f1e1-4e15-bc12-c0b0ef2c1e75', '4a718c3a-ba09-4d06-b71d-0db1c86f4a60', '4a85b764-24d9-42a9-a1b6-95c3c2d6853f', '4b063a29-ba8d-4881-b572-4eedc274be6d', '4b95956f-f906-4510-a75f-4ebafea096fd', '4bd56884-7a58-4203-8a9a-67f96db244ab', '4c0aa39f-a481-4688-88f3-11b9e9076cf8', '4c1d8434-7010-4692-8f8b-2b386e5cee8e', '4dd4dbb6-6b4b-4021-b43c-9dcdeb0a520f', '4df470a1-6084-433c-9db9-e8a8558ff33b', '4dff709a-7599-4fc2-9fd3-41e40914411f', '4e62677b-8f9f-4508-b6f1-36b8b91abbeb', '4e8bbc7d-f260-4670-b20f-f3cecc2faa7f', '4ea091a4-b4d8-49ed-9824-5ba235a837a4', '4ec8dd52-0732-45d4-817d-dca7a8ad982c', '4f3c06c4-6c80-46f9-b019-ae48c185358a', '4f63cb99-e303-40d8-adb5-23a7e6d8d85d', '5006afb3-d1f8-4674-bf23-727bdf471ad0', '50de6793-b156-420e-95a2-3f945c3abe2d', '50e87ef4-a0b0-4de6-ad8c-169b38f14a80', '51be174a-785c-47e2-a414-9517e52e378d', '5240ed39-3032-46b6-8879-1d7b28c891cd', '529810f3-257f-47e9-8e23-5a5d8a4a37d7', '53f418f6-2ec3-4967-9ae5-87d9d037b8ea', '5420e731-cdb0-44c8-8e7a-fd1cff21f2f4', '545c1e9a-14de-4a0a-9165-228bb4eaa2cb', '5472eef3-da6c-447f-84a4-437a228a02ea', '548d6da4-78e7-4f22-89b5-4beec29cdeec', '54d2e90f-42d7-44a5-8aff-66af83f7f62a', '55020b0c-06d9-44aa-beaa-8da151fbfcfe', '558139f5-80c7-4acf-9bac-001caaad273a', '56d0337d-429f-44a3-b396-54dfd97540ad', '56e2fce9-b749-422c-a672-32c494f49ebd', '58182b18-b378-43b5-8910-1dcf138cbe41', '583e8e4f-b0b5-4e83-aa34-aef14b51fe03', '58e216e9-f777-4261-b6b8-6e2d3500d3a2', '59500336-2c94-49c0-b8a7-e12ad0791f0f', '5964d468-63f0-4982-9795-555fb8b1e8a5', '5b490671-9d2e-4a3d-aac7-ec6df536d538', '5c001c2a-949a-4166-830d-6ac39106c54f', '5c4be470-9f90-46d7-9b9f-8eab64687330', '5c69a473-8b79-44fa-b186-d3d0c629c08a', '5e4f2471-3058-4dbd-b671-51a0b205c5b1', '5e5ddbc5-4b4b-47ca-8bc3-9f3638b394d8', '5eda09b8-acd3-45a4-ad1b-b45563c5208c', '5ee269b5-05e7-486e-afdf-e73857d11089', '5f3c1cbf-9f2d-4a9a-bcee-52c9b8d8cf0c', '5f3ee991-1fa1-42a1-a69e-e6e565e271ab', '5f7065c0-84b3-4753-9d1e-429019f08255', '5f94e465-d2d9-42a5-8197-ba16e6eea2b0', '5ff1887e-b936-456a-bcde-43eb44e027d4', '602204ea-def4-4718-b97d-2a531a0150df', '605ac4a3-d92c-4067-a546-1e207655fcf1', '605f25ed-610e-4c23-893a-b83a1c031bbb', '6139ff81-b970-4246-97a6-110bf7c47259', '61b28009-adc3-4cc7-8abe-07b2f108654d', '61cbc359-2c26-46be-84dd-5d3ebdf39f75', '629be98e-d3f9-4306-aa5b-d1fd354e9652', '62ec7634-3924-4921-98d8-4dead0ad2901', '6340c2bb-caac-4a9e-a610-9bc92750e0de', '6340ced0-6203-40c9-8785-6004a4c8ed70', '638c3198-4670-45b5-86e8-91b11a7a3c01', '639548a4-7b7b-45c0-b656-6cbbb666623d', '63ecd3b8-1b0e-471c-9b93-a92d2a03431a', '645aac28-037e-4055-a9d0-0667194035c4', '6469b831-604b-4bab-9e9d-74dc6ab8a389', '649df2c6-e15a-42d0-8a4a-a6125033573f', '64ee4888-3186-4490-8781-b99c76c03555', '64f8d7fa-e126-43ff-be0d-75a9e0226ed8', '652172b5-04b0-4452-8d8c-5159096606fa', '6538a8d0-15c6-4c13-993e-0bed39a60a2e', '65466bb5-c7a2-415f-9e7e-da32c3d3f845', '6557090b-9677-4c28-970c-035c6bae388c', '66735d6d-c800-44c6-8c9c-f30c232aa484', '66e77811-52e3-4660-984c-98599d47672e', '672801ff-09ff-4572-98e2-ee8fc9edd813', '67a964bb-bde5-4f99-8081-02f40d17086f', '67f81015-6872-4841-8a30-675e4bd2adde', '68556f36-d764-40f0-9020-6eca2194e08f', '686950e0-8e10-40f0-84f0-c075f5b42060', '68bb5231-d1ae-4227-b131-355b56da1c2b', '68c4e3f8-4187-4f78-a230-4663ca71a715', '690a8d99-7bb1-4b51-8c0d-ec01d9c71084', '6974087d-8405-4dcc-90f8-c8f0d9dc3387', '69a58941-64f2-4789-aa5b-5a2faa333462', '6a795eaf-5327-46e7-933a-43abf974da3d', '6a921b0d-21ad-4d8f-b877-13b4998d9546', '6b68f58e-b26d-438e-add7-42933e42d332', '6ba68cd1-a330-43c7-a7eb-a1110e0fa927', '6be4507f-3102-4be6-bdc2-66556581af10', '6c7655d9-88d2-4c10-a3a7-7322f6a5c2f0', '6d3655e3-088c-4ae1-b329-f2464128d87c', '6d782f6f-8396-458c-abf9-f48fdacf1f98', '6e0954a6-320e-4f22-8040-2b41434b5d4f', '6ec1b690-d620-470a-8dc5-ca593e9eb76c', '6ed71ad1-6aea-4806-bfd5-78680bd01736', '6f133566-262d-4588-935e-db9b19708ce4', '6f33ee5e-204f-4387-b5d7-1370dcfe33d8', '6fe7760c-724d-4cbe-b21c-c63dc0dddef0', '70459796-b35f-41a5-bdc3-5438ca401d02', '70754c06-c627-4c33-81e6-942904c8ad98', '72135064-52a0-468f-bb3e-8d07a5d7a4ff', '722d1ca8-78e8-4589-a742-ec49fdf9479f', '726220fa-bb5c-409b-a3fb-d7232a92f3d6', '72f0314e-64a7-4b36-9ec7-76a06f85b346', '74334d10-27dd-46f4-a3f0-520fe765d0d3', '74773577-4602-4840-8b50-587d7d8131f8', '749ebd02-30a2-47e8-a495-60c4d6d6ac36', '74f7e601-ceb5-45d3-a670-6c63818402ef', '751f3950-3735-4dd2-9ef1-c5557a0ba5ba', '756b78d0-993c-428e-acbd-dc8a5fc55921', '757229c7-85bd-4c85-a0f8-0e17ce6ab64d', '75967fc0-991d-466e-9cbc-dbe966c21068', '75980a65-c73d-4ccc-8a50-ab8fb4c1f5b9', '76eeae54-7352-4bc5-bfc2-edf173c98c64', '77721c28-61a9-4919-a9a3-ab5db810d3a0', '77eeda9c-50cb-466b-bf2c-e24a6f3cfafe', '783ccf41-f242-445b-9cc0-3687507f4414', '79366066-5c53-48aa-99e6-6c0df5d2f27b', '796976a1-e2e5-43aa-b04d-0fe9cb51482b', '79e29ed4-e080-4e10-b3d4-b0532ae9dabb', '7a0078ac-53d5-4091-9960-5db5d309dc95', '7aa86f58-db79-4911-ad2b-2b2d813ed40b', '7b132cc1-93a8-45c1-b70e-f0862e8a10b1', '7b35d063-ae7d-4527-90f8-a09c5c6bf8bf', '7c3d8d05-2af4-401d-aaeb-61304aba37ad', '7d1daf06-626c-400c-954f-a36e9de56d5d', '7d4aafc0-560b-4cd6-a989-e8a6b32ede81', '7d69a3be-0672-4e4c-8905-398191f08aa8', '7dc00a11-427e-45a3-921c-7635d0b8ba9a', '80bbe334-86a4-4768-ac07-cac82e41b392', '80d7ea4f-cb00-4fb9-a967-e7d3b8473e60', '819ef777-2854-42cd-9455-e52f87607b00', '81f0d540-7be5-4ba7-bbd7-c4c97ac3b6ab', '837126b6-9d36-43bd-99aa-b6d80c12dd1f', '838d2e27-1260-4301-be9a-1eaf3a83d4f6', '84a5424b-acb3-4d78-9e94-48e3740ccaba', '851efb44-1240-4188-a14e-debd9cb38925', '867699f1-25a3-4df0-a381-31053aaa698d', '86caf7e1-37cd-4e0d-8bed-c781b5756ccc', '87873172-c5be-426b-b5ad-58accf916972', '87a2f104-77e2-4d1a-9629-fea0bdf4e138', '8811d6d3-99d9-4b68-8c49-4679214b22aa', '885ccdf3-b0d7-4fa0-837e-92b4b2bfa5f3', '88a46c6b-025c-4950-bc95-8000398ac520', '88e582f4-c0a4-4ee0-86c9-e4380021c53d', '8940e170-8fbb-40b2-8227-e3c6c48fbc76', '89b3e407-627f-46a8-82a7-c4ed7c285279', '8a3016d3-2e86-4f6b-bb31-3c825d54d817', '8b1e474e-888b-4763-b8ea-0ae22430676f', '8b55f6b5-8e7f-4b15-a18c-e2a5d718896a', '8b803c74-cbfc-4dbf-83e5-c498d66c0964', '8b85d68f-3eee-4527-a4cf-086be5b9bcc2', '8bc03555-495f-4e89-828b-f1fa8f77d79f', '8c409ebc-1068-465b-9978-7bb8f4d0bc2b', '8db6ad2e-9444-4ecd-a9cc-09ae81f92419', '8e545e19-4e28-4ff0-8e6f-666eb1841188', '8f195ff7-0882-408a-a993-f499bc3ca336', '8f7d09b5-6f9e-445e-8c1b-a96c374b5237', '91752f59-614a-4090-98aa-e93daa5bcfd6', '92ed6589-9aa8-4efd-b662-0fc617fa6b1a', '9417df44-e155-4887-84ca-52ba1368b4cc', '9461fa29-34f7-4aa1-bf88-c12ac2be1d59', '95e74d04-c8b1-4003-9277-7039d6619f6b', '9694156e-51bf-40f5-aa48-7a042eca69af', '96b7aff3-14e9-48cc-907c-cd5e21094d2c', '96d95eff-2e94-4c2b-a96e-c3902eb03078', '97821c51-8142-4c26-8fb6-a57e0aabd06e', '98f88a8f-30f7-488a-b29e-82b3135486b9', '997ce9a8-da81-43d8-bb47-dce1906590f5', '9997b509-61b3-4952-a561-0159db296518', '9abff483-4979-4ff2-9ae7-85f2168ad86c', '9ae9a063-e808-4bbb-85cb-8a3d20e54d17', '9b09d1f8-88dc-47d5-8135-5377e94214f8', '9b21dde2-ee8f-46f0-aa20-5a9efb0e9b0a', '9baadc20-9e7e-4f72-acff-7c7cd5ac7f47', '9bf3b874-6a52-465a-a7e6-edd1cb597056', '9c8c39e9-6091-455a-94a4-162e3b32118e', '9cb3e055-84a2-4131-adbb-98028910cad8', '9f146a79-b0ab-4701-94cf-da1f1133cfbb', '9f16f702-aa89-4515-952d-46ee905195c1', 'a166bfb7-13ff-4830-86c0-628317618f47', 'a1b7e52a-06bb-45cd-9380-36ceced57899', 'a1f2721b-8624-46fc-90d3-01fe33ee966b', 'a2593da8-fe20-4b59-a82c-2460cc39fef9', 'a3495f5d-745f-4ab6-82c5-ec7d5746bb8f', 'a38e91e7-0fc0-4b59-a3e5-387766184566', 'a5296264-171f-4c01-bb62-d94aed35125b', 'a58a052b-5607-4cdb-aa94-79d15e7803df', 'a5e6c918-328e-4f65-b3e2-5fa2a339a790', 'a680f2d8-b710-4772-90bd-427b77b08e40', 'a6d866d4-1651-4598-9de5-b941fa04b02c', 'a6f57a60-6c2e-42cb-a589-ece258a3ab20', 'a7536e2e-1b57-48f1-8c54-b7f9682e0f72', 'a7a662e4-fd4a-432d-9465-d8ba36ef5d07', 'a7d93f10-f08c-44d5-a538-29b50bb377ab', 'a8acb331-caac-4659-8fc6-721b802a0446', 'a8c5a711-10f4-4578-9a45-ff61d0e6f6d0', 'a93e5833-2052-4193-81ae-ac5a95f00eb7', 'aa04d449-df8d-42c6-b94c-e45b910313a6', 'aa273e3b-3624-431d-a297-62ade8c66c57', 'aa56c5f9-c62e-43cb-afe0-6782c529d1e0', 'aa814e80-426d-4fbe-ae66-1b4a8e2c4748', 'aa8487ee-35b1-462b-be4a-84205e392e1a', 'aac731de-3e8b-46c3-9714-f12296fcd936', 'abb6c757-7122-495e-80d7-57ac1557a953', 'ac0b84dd-2372-4310-bc00-dbcaaa338fc4', 'ac3c2b06-ba71-4eb9-a330-7b41a46e1c06', 'acacb572-b775-4fba-889f-e98f10eb8b68', 'ad39be2e-e1e9-44be-a843-86e7f78747ee', 'af929ad3-ee34-4560-bd42-827f9f64f26b', 'afa00a12-4c8f-4e50-bb69-85adc5752f75', 'b02722e6-2474-486f-a5e1-0c8a37ef5645', 'b06f84ae-b703-4983-b398-d61f93b11865', 'b089e32b-ad87-4c41-a54c-a32c1628e97d', 'b0d992a6-6e32-4a0d-86db-607834a82cc1', 'b0f261bd-90ca-4b4c-984c-51fa0f9aa0fe', 'b17ac6ef-18fd-4460-92d4-77b2ee88b3a1', 'b2635565-f185-4a6e-b1f5-224eae5ff421', 'b2a51596-a050-4c10-ab5f-cb017e801e1b', 'b2b2cb34-7e3b-4727-b28f-561a00750e90', 'b37e3e9d-0aaf-4175-80f1-9397bf477988', 'b609292e-8896-46ed-b7ea-28766d0ae17a', 'b650fbe6-7c00-4e11-9c59-98dc619d7477', 'b666be12-2009-4d04-a015-c7dd6ab3b5fc', 'b6685357-153e-4cc5-ad39-a4d38cc3bea1', 'b8d45bf4-1b6b-4db6-b09f-0b9ed12b1397', 'b99f3678-7c21-430e-a7c3-762e2eb1c39d', 'b9c8bda7-4df2-4107-a661-fb14ac44642f', 'b9d295fc-780c-4fa1-812b-8157824fb267', 'bba5dee0-e379-407c-8672-180e3075a9ff', 'bda00947-ddaa-44d1-8a1b-837a72d17697', 'be5d5909-1adc-4c16-9b04-f8de747474e4', 'be7f3ee1-6c8e-49fe-90df-41153c03422e', 'bebf48a9-238b-4c92-9e1b-a8b1134af272', 'bf092f7a-6f3d-4f1e-bb9b-e4c46ab45c89', 'bf2693df-0948-42bf-ad2d-afbd31969943', 'c05304ac-9c42-4e00-822f-17f8512778f3', 'c094ca9e-41e8-41f2-8426-76fb1c9701e2', 'c0bca10b-7cf7-4687-814e-0ae447a80023', 'c1df2b8e-e6e7-459f-af7a-d8796db9635a', 'c1efb271-a212-4dba-9abb-7270670b3524', 'c2c40170-f440-4f4f-981e-14b1ed87ea4f', 'c3cd9149-fc52-45f8-b811-4c9093ac58e8', 'c478a772-6407-4f24-861b-1140066adb66', 'c4a301bb-2fa4-48d0-a14f-a69e68b1092d', 'c560441f-fef9-4176-9b20-942fe90feeb2', 'c82631e4-eca9-41f8-8ec1-92f1eb2e36ef', 'c86f619a-694f-4699-ba00-80b6bf75b4e1', 'c8ba1dbd-7692-458c-adea-b99b84937b42', 'c98db5b9-96c0-48f9-94f6-ff65a5ee37f2', 'ca744f23-f1b8-4954-b51d-8b846cf0aefc', 'ca7b894e-1fff-408c-87e3-ae03f5513c56', 'ca7c0313-b16e-4652-96ab-fea2e7d15305', 'ca9297bd-0e66-4d06-8118-8b94146945a3', 'caf6e696-f5bc-4a5b-b91c-6c7ae71bd006', 'cbb7d5ab-b04a-4e45-8026-3582f00791da', 'cd339b30-239a-4f4d-b077-1539770c589e', 'cd76666a-3c8e-4162-a786-377537ba6503', 'cd9726df-063d-46cd-a038-cab1c9cbd8b9', 'cdfccfee-3974-4bfa-adbe-406ba5781f74', 'ce7457d2-a094-4a1e-8bab-1441f9958e1d', 'ceb496e1-439e-4ded-a4a0-4bc783b911e6', 'cf1a9ea4-f40c-4702-85ba-de92e85ab0fd', 'cfdb70eb-202b-4869-96a6-38dd8e298edb', 'cfefd600-0885-4598-99f8-308ffd6117f8', 'd08d8d2a-64bc-41f9-b107-e31772663050', 'd1b0ffb1-afec-4532-b942-8061d9f278f7', 'd253201c-d09a-4bef-be07-5c22cfb43af0', 'd2599ee0-65be-4b31-91ed-9502e380df10', 'd293ba13-dd69-4a17-9098-b119764b0b11', 'd2b98391-3f92-4d7c-859f-8f832e8c24e6', 'd2dcad23-045c-451a-b299-c4a0749d34bd', 'd320c7db-0580-46ff-8a8c-87f4f35fca08', 'd3ed6ba4-ebbe-4730-b465-0b516a8e5d73', 'd401b139-9bf5-495e-bbb2-4d954b3e6887', 'd44df043-7f66-4132-b7ec-22d1b3f53e50', 'd498a58c-fa32-4114-97cb-0ee87d7b53ac', 'd4da4785-2fd4-4f67-bfea-06aba6669447', 'd568dfef-d520-4f6c-b043-58b5db4a804a', 'd5981d14-a847-42af-93d7-7253e49f6285', 'd6061dc8-033c-49af-aea2-31e97dfbc000', 'd7d3a103-5e76-4bd2-89cd-216b97c15877', 'd831c6b5-8386-4c3d-9ccf-5219afacc17a', 'd8462be8-eeb9-467b-b547-0e4e9c1dc01d', 'd897098b-f390-446b-ae33-c8c5f3ca6b8b', 'd8e73f03-ff74-4884-b608-4a09689add8b', 'd945f1fd-f595-4f7f-a6ce-9e3efabbc8b5', 'd9d76c8e-5b0d-418e-a983-2d449ce61571', 'da3e7e78-ed15-4a8e-a51f-f1d84e911149', 'dac22a6e-9bf5-4a08-aa8c-d26e7c0d0df6', 'dca0b9ed-4157-4757-9873-3c3ef108e5e4', 'dcc5dfb7-2835-4960-9c5c-6ea0aee45081', 'dcc5ed57-1762-4f41-b528-ac9482597e2a', 'dcc83c09-9f90-485e-ad0a-161d09a0dc7e', 'dcf9b3e6-2e77-457e-83fb-f9d90de42bae', 'dcfe2912-74ed-491a-b92b-eafab5650b91', 'defc17b3-b7cf-42fe-86ba-94c943af0f29', 'e0451020-b024-4759-bf65-f6d0699ed748', 'e06a1f8b-3d71-471d-b796-1bf7c01ec10c', 'e08041b2-a3fa-4a34-9b60-a9cdf8fb9d6d', 'e307e21c-7fa7-4cc4-8ba6-0a8242f50612', 'e3f9fdad-3b7e-4341-8d95-3de440e4a32c', 'e41720eb-e08d-4272-b70e-07ab8c55666e', 'e43ede63-d5ec-46a4-8fb9-3564c897a969', 'e54e318e-e999-425d-b7c0-5c145a2afc38', 'e5b2c414-4f8a-4c21-98ad-036c6ec8b5f4', 'e5e78bd5-b309-4957-8c25-0742fae29e4b', 'e5f40bd4-5939-4df1-9ae5-1c6f27d80aa5', 'e5f9a7f3-241f-4052-a1a3-b33221aa4d4b', 'e66d3d46-8784-4646-a9cc-918f6d5276c4', 'e77f4c99-3b72-43f1-8cf6-b86a45b5307c', 'e887c218-f62f-4001-b3cd-8739b913dac6', 'e9150f6c-9a5d-4fd3-900f-aeccf2268e5d', 'e91e25db-1150-41a2-959a-5176c5f681f7', 'e9b52a45-d59b-4ea3-a306-4cbf281e35b7', 'ea344397-6cc8-45fe-aa5e-092a54067618', 'ea8c8442-7159-46e6-9fd0-17a08232fdf1', 'eab6e28f-b6b4-40ac-9bf7-a6ef0ee87998', 'eabc7e22-d93f-4699-ae73-c3e1b96672b2', 'eb1608c6-6924-4e9d-9bf3-03987cc9d84c', 'eb566003-a1f6-42a9-a55e-32e9fc543289', 'ec262391-cddc-4511-90ba-f2758f2dc0b0', 'ed5bce2d-ee36-4b1a-adf4-00da914a46fc', 'ed73b45b-e62d-4902-bab3-f1586f90931e', 'edfe5c38-7ebd-4be9-8b9e-9b83b5b770c7', 'ee279b8d-754a-4161-b3e5-c223a8ab020f', 'ee767c1a-44dd-4968-9132-7af2738f81a0', 'eeef5ef5-6177-4244-8579-73577f454382', 'ef06a54f-816a-41f8-8ca7-b626d2b37c4f', 'ef66abbc-2a17-4357-81e2-4fbd4b771a9a', 'ef98537c-8a84-4698-946b-e24a8972622e', 'f077bc75-a971-4138-b4a6-a59d0ddbc369', 'f087e52f-392b-4a81-b0b6-087854b81c5b', 'f110b394-0c4d-42b4-b068-bf552090bd6e', 'f137e7f7-af00-40bf-8a2d-cb1d1b4cf135', 'f19787ea-3471-44b0-920e-4af0117d68fa', 'f20f43ee-19b6-44fa-acbb-902103852a1f', 'f2383475-5988-446b-9821-f20c6ab8d831', 'f2936459-4d2e-49d7-8c97-7398d44d6d4d', 'f3b23921-5d61-4844-b300-b49a86da758a', 'f44386c5-6733-418b-8e32-ddc8420ade2f', 'f4da2e35-bac9-4928-8951-5955e8065795', 'f50cc34e-56af-49d3-990b-d2b4cced1df9', 'f661d370-5eba-400e-a20e-ef5e1ae9e414', 'f750e3ee-3f41-47ba-aa97-19a18207243e', 'f77ca181-5eac-4366-b2d3-3c733289d263', 'f8973487-aaaa-4545-a851-09ea39b5df5d', 'f899acf1-bbf3-45dd-9c2a-636f6894ba89', 'f8c1d828-6df8-4383-bb1e-82b1dc6e9018', 'f8cdb90b-43ab-4033-b015-1bd75b28ba60', 'f8f92443-9c49-4904-9abd-affcd9770fcd', 'f8fb881a-d922-4a6f-aff8-85fb8828a53b', 'f99fd825-6472-416e-9efb-20e0ed9a395b', 'fa3521c7-fe43-4496-8441-d777b446ab12', 'fb45a346-013f-4716-8d07-58468f5a24ed', 'fb880a8c-86c7-48e7-aee8-ec951ffd916d', 'fc486269-4786-4bcc-83bc-eac19b5f9b5c', 'fc9a64be-ecb0-4ef0-ad41-0015a69287c0', 'fd9439e3-c9b1-4762-83fa-062d7045439a', 'fda81b01-a0a9-4776-9a16-fbd8810c334c', 'fe193b27-fb79-4187-80a6-3dde8b84147a', 'fee62550-4f22-4dfd-865c-0db335cf6e6b', 'ff03480b-43b2-4492-aaf7-3fb8dab1f021'])"
      ]
     },
     "execution_count": 35,
     "metadata": {},
     "output_type": "execute_result"
    }
   ],
   "source": [
    "parentDict.keys()"
   ]
  },
  {
   "cell_type": "code",
   "execution_count": null,
   "id": "7ff1e2e7-9bb7-4075-ab00-0d8bf862f6e0",
   "metadata": {},
   "outputs": [],
   "source": []
  }
 ],
 "metadata": {
  "kernelspec": {
   "display_name": "Python 3 (ipykernel)",
   "language": "python",
   "name": "python3"
  },
  "language_info": {
   "codemirror_mode": {
    "name": "ipython",
    "version": 3
   },
   "file_extension": ".py",
   "mimetype": "text/x-python",
   "name": "python",
   "nbconvert_exporter": "python",
   "pygments_lexer": "ipython3",
   "version": "3.9.12"
  }
 },
 "nbformat": 4,
 "nbformat_minor": 5
}
