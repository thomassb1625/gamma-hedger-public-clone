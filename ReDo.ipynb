{
 "cells": [
  {
   "cell_type": "code",
   "execution_count": 1,
   "id": "e9cd4312-6067-4553-a451-a02776425252",
   "metadata": {},
   "outputs": [],
   "source": [
    "import pandas as pd\n",
    "import numpy as np\n",
    "import datetime\n",
    "from scipy import stats"
   ]
  },
  {
   "cell_type": "code",
   "execution_count": 2,
   "id": "1388ea08-9d0e-4d09-9ff2-83ac7d8aa57b",
   "metadata": {},
   "outputs": [],
   "source": [
    "fileName = 'orders-20220609-114922.csv'\n",
    "df = pd.read_csv(fileName, low_memory = False)\n",
    "df = df[['TransactTime', 'OrderID', 'Price', 'Symbol.1', 'Group']]\n",
    "df['TransactTime'] = pd.to_datetime(df['TransactTime'])\n",
    "df = df.sort_values(by='TransactTime').dropna()\n",
    "splits = df['Group'].str.split('/', 2, expand = True)\n",
    "df['Group'] = splits[0]\n",
    "df['Parent'] = splits[1]\n",
    "df = df.loc[df['Symbol.1'] == 'BTC']\n",
    "df['Price'] = pd.to_numeric(df['Price'])"
   ]
  },
  {
   "cell_type": "code",
   "execution_count": 3,
   "id": "c9fed494-d088-4d14-bb7a-a6f7b7288483",
   "metadata": {},
   "outputs": [],
   "source": [
    "chainDfDict = {}\n",
    "\n",
    "for _, row in df.iterrows():\n",
    "    parent = row.Parent\n",
    "    \n",
    "    if parent in chainDfDict.keys():\n",
    "        chainDfDict[parent] = pd.concat([chainDfDict[parent], pd.DataFrame({'Time' : [row.TransactTime], 'Price' : [row.Price]})])\n",
    "    else:\n",
    "        chainDfDict[parent] = pd.DataFrame({'Time' : [row.TransactTime], 'Price' : [row.Price]})"
   ]
  },
  {
   "cell_type": "code",
   "execution_count": 4,
   "id": "fc788099-1919-47da-bd8f-2cf5c466c680",
   "metadata": {},
   "outputs": [],
   "source": [
    "for _, row in df.iterrows():\n",
    "    order = row.OrderID\n",
    "    \n",
    "    if order in chainDfDict.keys():\n",
    "        chainDfDict[parent] = pd.concat([chainDfDict[parent], pd.DataFrame({'Time' : [row.TransactTime], 'Price' : [row.Price]})]).drop_duplicates()"
   ]
  },
  {
   "cell_type": "code",
   "execution_count": 5,
   "id": "bf94b420-a9e4-4669-a034-15b4032a3607",
   "metadata": {},
   "outputs": [],
   "source": [
    "secInYear = 60*60*24*365\n",
    "\n",
    "volCalc = pd.DataFrame({'logReturns' : [], 'tDelta' : []})\n",
    "\n",
    "for chainKey in chainDfDict.keys():\n",
    "    chain = chainDfDict[chainKey]\n",
    "    chain = chain.sort_values(by='Time')\n",
    "    chain['tDelta'] = (chain['Time']-chain['Time'].shift(1)).dt.seconds/secInYear\n",
    "    chain['logReturns'] = np.log(chain['Price']) - np.log(chain['Price'].shift(1))\n",
    "    chain = chain[['logReturns', 'tDelta']].dropna()\n",
    "    volCalc = pd.concat([volCalc, chain])"
   ]
  },
  {
   "cell_type": "code",
   "execution_count": 7,
   "id": "89c0ad2d-e0cd-4533-b983-0b53c2e8bda1",
   "metadata": {},
   "outputs": [],
   "source": [
    "volCalc['range'] = volCalc['logReturns']/np.sqrt(volCalc['tDelta'])"
   ]
  },
  {
   "cell_type": "code",
   "execution_count": 8,
   "id": "eeb5d0dc-8cbd-4777-9167-f5237cd821cc",
   "metadata": {},
   "outputs": [],
   "source": [
    "volCalc.replace([np.inf, -np.inf], np.nan, inplace=True)\n",
    "volCalc = volCalc.dropna()\n",
    "volCalc = volCalc[(np.abs(stats.zscore(volCalc)) < 3).all(axis=1)]"
   ]
  },
  {
   "cell_type": "code",
   "execution_count": 178,
   "id": "3443f07f-3505-4302-a3f2-89de0a9425aa",
   "metadata": {},
   "outputs": [
    {
     "data": {
      "text/plain": [
       "0.31560602624119455"
      ]
     },
     "execution_count": 178,
     "metadata": {},
     "output_type": "execute_result"
    }
   ],
   "source": [
    "volCalc.range.std()/np.sqrt(365/np.sqrt(volCalc.tDelta).sum())"
   ]
  },
  {
   "cell_type": "code",
   "execution_count": 10,
   "id": "2f7f7a84-e359-4c5f-b8c9-3cc5b9a55d19",
   "metadata": {},
   "outputs": [
    {
     "data": {
      "text/plain": [
       "<AxesSubplot:>"
      ]
     },
     "execution_count": 10,
     "metadata": {},
     "output_type": "execute_result"
    },
    {
     "data": {
      "image/png": "[encoded data removed]",
      "text/plain": [
       "<Figure size 432x288 with 1 Axes>"
      ]
     },
     "metadata": {
      "needs_background": "light"
     },
     "output_type": "display_data"
    }
   ],
   "source": [
    "volCalc['range'].hist(bins=100)"
   ]
  },
  {
   "cell_type": "code",
   "execution_count": null,
   "id": "27150022-7a03-4b8f-9205-88f18acefd73",
   "metadata": {},
   "outputs": [],
   "source": []
  }
 ],
 "metadata": {
  "kernelspec": {
   "display_name": "Python 3 (ipykernel)",
   "language": "python",
   "name": "python3"
  },
  "language_info": {
   "codemirror_mode": {
    "name": "ipython",
    "version": 3
   },
   "file_extension": ".py",
   "mimetype": "text/x-python",
   "name": "python",
   "nbconvert_exporter": "python",
   "pygments_lexer": "ipython3",
   "version": "3.9.12"
  }
 },
 "nbformat": 4,
 "nbformat_minor": 5
}
